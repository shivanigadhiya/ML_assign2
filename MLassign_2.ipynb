{
 "cells": [
  {
   "cell_type": "markdown",
   "id": "09025962-827f-4f4d-a37e-c33ed16aa560",
   "metadata": {},
   "source": [
    "Q1: Define overfitting and underfitting in machine learning. What are the consequences of each, and how\n",
    "can they be mitigated?"
   ]
  },
  {
   "cell_type": "markdown",
   "id": "80b7fc4c-9be1-485b-814f-e955a6cb1a9d",
   "metadata": {},
   "source": [
    "Underfitting means that your model makes accurate, but initially incorrect predictions."
   ]
  },
  {
   "cell_type": "markdown",
   "id": "ae9d7463-4fa0-4287-80ed-6b2c7fd4080e",
   "metadata": {},
   "source": [
    "Low Bias , High variance"
   ]
  },
  {
   "cell_type": "markdown",
   "id": "429b8574-4acd-43a1-96d6-7530873053b5",
   "metadata": {},
   "source": [
    "Overfitting means that your model makes not accurate predictions. "
   ]
  },
  {
   "cell_type": "markdown",
   "id": "55ed9b1f-08f7-4448-9bef-7ef7289f0bf9",
   "metadata": {},
   "source": [
    "High Bias , high variance"
   ]
  },
  {
   "cell_type": "markdown",
   "id": "afe5e8d1-d4ee-4e55-a729-2946502ce5db",
   "metadata": {},
   "source": [
    "Q2: How can we reduce overfitting? Explain in brief."
   ]
  },
  {
   "cell_type": "markdown",
   "id": "4cfe4277-70ea-4772-b13e-0b92fb9f595f",
   "metadata": {},
   "source": [
    "Cross-Validation.\n",
    "Training With More Data.\n",
    "Removing Features.\n",
    "Early Stopping.\n",
    "Regularization.\n",
    "Ensembling."
   ]
  },
  {
   "cell_type": "markdown",
   "id": "a972aa92-592d-4f19-92d8-757a9b1cfdf3",
   "metadata": {},
   "source": [
    "Q3: Explain underfitting. List scenarios where underfitting can occur in ML."
   ]
  },
  {
   "cell_type": "markdown",
   "id": "cfbd8266-cc96-42b2-be2d-fc06818a33ae",
   "metadata": {},
   "source": [
    "Underfitting means that your model makes accurate, but initially incorrect predictions."
   ]
  },
  {
   "cell_type": "markdown",
   "id": "5f6bce87-85ab-4352-8006-69c63c3c1082",
   "metadata": {},
   "source": [
    "A statistical model or a machine learning algorithm is said to have underfitting when a model is too simple to capture data complexities. It represents the inability of the model to learn the training data effectively result in poor performance both on the training and testing data."
   ]
  },
  {
   "cell_type": "markdown",
   "id": "5febd075-3141-4b69-a812-55869bedc6a3",
   "metadata": {},
   "source": [
    "Q4: Explain the bias-variance tradeoff in machine learning. What is the relationship between bias and\n",
    "variance, and how do they affect model performance?"
   ]
  },
  {
   "cell_type": "markdown",
   "id": "e2ffb765-7bdf-4ce5-9bb9-6301925ba3bf",
   "metadata": {},
   "source": [
    "If the algorithm is too simple (hypothesis with linear equation) then it may be on high bias and low variance condition and thus is error-prone. If algorithms fit too complex (hypothesis with high degree equation) then it may be on high variance and low bias."
   ]
  },
  {
   "cell_type": "markdown",
   "id": "ceaf887f-5153-4ba7-a25e-f0a326587e5b",
   "metadata": {},
   "source": [
    " Finding the right balance of bias and variance is key to creating an effective and accurate model. This is called the bias-variance tradeoff."
   ]
  },
  {
   "cell_type": "markdown",
   "id": "d0adf215-bf1b-491b-8322-4a9c035787d0",
   "metadata": {},
   "source": [
    "Q5: Discuss some common methods for detecting overfitting and underfitting in machine learning models.\n",
    "How can you determine whether your model is overfitting or underfitting?"
   ]
  },
  {
   "cell_type": "markdown",
   "id": "376fafe3-d3d5-4c8a-9578-ad9b08f5b967",
   "metadata": {},
   "source": [
    "Typical features of the learning curve of an underfit model\n",
    "\n",
    "The above illustration makes it clear that learning curves are an efficient way of identifying overfitting and underfitting problems, even if the cross validation metrics may fail to identify them."
   ]
  },
  {
   "cell_type": "markdown",
   "id": "0c23080b-5d1f-48f1-bc6c-f1c1164762f7",
   "metadata": {},
   "source": [
    "We can determine whether a predictive model is underfitting or overfitting the training data by looking at the prediction error on the training data and the evaluation data. Your model is underfitting the training data when the model performs poorly on the training data."
   ]
  },
  {
   "cell_type": "markdown",
   "id": "96abaada-c689-48d9-aaf1-9fe321bb6306",
   "metadata": {},
   "source": [
    "Q6: Compare and contrast bias and variance in machine learning. What are some examples of high bias\n",
    "and high variance models, and how do they differ in terms of their performance?"
   ]
  },
  {
   "cell_type": "markdown",
   "id": "47957c63-395d-49c6-a762-07f04cb04247",
   "metadata": {},
   "source": [
    "The high-bias model will not be able to capture the dataset trend. It is considered as the underfitting model which has a high error rate. It is due to a very simplified algorithm."
   ]
  },
  {
   "cell_type": "markdown",
   "id": "1a58c43b-23ae-4a67-885e-59ab92fc0476",
   "metadata": {},
   "source": [
    "Bias creates consistent errors in the ML model, which represents a simpler ML model that is not suitable for a specific requirement. On the other hand, variance creates variance errors that lead to incorrect predictions seeing trends or data points that do not exist."
   ]
  },
  {
   "cell_type": "markdown",
   "id": "3b162e2c-d6fc-427c-b72a-581d19abc91e",
   "metadata": {},
   "source": [
    "Q7: What is regularization in machine learning, and how can it be used to prevent overfitting? Describe\n",
    "some common regularization techniques and how they work."
   ]
  },
  {
   "cell_type": "markdown",
   "id": "ddcc6ef6-8bc0-41c6-901c-6dbed9b10f16",
   "metadata": {},
   "source": [
    "Regularization is a technique used to reduce errors by fitting the function appropriately on the given training set and avoiding overfitting. The commonly used regularization techniques are : Lasso Regularization – L1 Regularization. Ridge Regularization – L2 Regularization."
   ]
  },
  {
   "cell_type": "code",
   "execution_count": null,
   "id": "3baae211-a1cd-4721-b7c1-51ae2f6c9814",
   "metadata": {},
   "outputs": [],
   "source": []
  }
 ],
 "metadata": {
  "kernelspec": {
   "display_name": "Python 3 (ipykernel)",
   "language": "python",
   "name": "python3"
  },
  "language_info": {
   "codemirror_mode": {
    "name": "ipython",
    "version": 3
   },
   "file_extension": ".py",
   "mimetype": "text/x-python",
   "name": "python",
   "nbconvert_exporter": "python",
   "pygments_lexer": "ipython3",
   "version": "3.10.8"
  }
 },
 "nbformat": 4,
 "nbformat_minor": 5
}
